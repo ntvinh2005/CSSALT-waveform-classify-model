{
 "cells": [
  {
   "cell_type": "code",
   "execution_count": 1,
   "metadata": {
    "vscode": {
     "languageId": "plaintext"
    }
   },
   "outputs": [
    {
     "name": "stdout",
     "output_type": "stream",
     "text": [
      "True\n"
     ]
    }
   ],
   "source": [
    "import torch\n",
    "print(torch.cuda.is_available())"
   ]
  },
  {
   "cell_type": "code",
   "execution_count": 4,
   "metadata": {},
   "outputs": [],
   "source": [
    "import wfdb\n",
    "import matplotlib.pyplot as plt\n",
    "import numpy as np\n",
    "\n",
    "record_name = '418'\n",
    "record_path = r'C:\\Vinh\\CSSALT\\CSSALT-waveform-classify-model\\mit-bih-malignant-ventricular-ectopy-database-1.0.0\\mit-bih-malignant-ventricular-ectopy-database-1.0.0'\n",
    "\n",
    "record = wfdb.rdrecord(f'{record_path}\\{record_name}')\n",
    "fs = record.fs\n",
    "\n",
    "segment_length = 4\n",
    "total_images = 60\n",
    "\n",
    "for i in range(total_images):\n",
    "    start = i * fs\n",
    "    end = start + segment_length * fs\n",
    "    ecg_segment = record.p_signal[start:end, 0]\n",
    "\n",
    "    plt.figure(figsize=(12, 4))\n",
    "    plt.plot(np.arange(len(ecg_segment)) / fs, ecg_segment)\n",
    "    plt.title(f'ECG Segment from Record {record_name} ({start/fs} to {end/fs} seconds)')\n",
    "    plt.xlabel('Time (s)')\n",
    "    plt.ylabel('Amplitude')\n",
    "    plt.grid()\n",
    "\n",
    "    plt.savefig(f'C:\\\\Vinh\\\\CSSALT\\\\CSSALT-waveform-classify-model\\\\VFib\\\\{record_name}_{i+1}.png')\n",
    "    plt.close()\n"
   ]
  },
  {
   "cell_type": "code",
   "execution_count": null,
   "metadata": {},
   "outputs": [],
   "source": []
  }
 ],
 "metadata": {
  "kernelspec": {
   "display_name": "cuda vision",
   "language": "python",
   "name": "cuda"
  },
  "language_info": {
   "codemirror_mode": {
    "name": "ipython",
    "version": 3
   },
   "file_extension": ".py",
   "mimetype": "text/x-python",
   "name": "python",
   "nbconvert_exporter": "python",
   "pygments_lexer": "ipython3",
   "version": "3.11.5"
  }
 },
 "nbformat": 4,
 "nbformat_minor": 4
}
